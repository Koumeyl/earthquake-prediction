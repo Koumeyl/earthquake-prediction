{
 "cells": [
  {
   "cell_type": "code",
   "execution_count": null,
   "metadata": {},
   "outputs": [],
   "source": [
    "# Imports\n",
    "import requests\n",
    "import tweepy\n",
    "import pandas as pd\n",
    "\n",
    "# Read Twitter keys\n",
    "import os\n",
    "from dotenv import load_dotenv"
   ]
  },
  {
   "cell_type": "code",
   "execution_count": null,
   "metadata": {},
   "outputs": [],
   "source": [
    "# Import Token from .env\n",
    "load_dotenv()\n",
    "bearer_token = os.environ[\"BEARER_TOKEN\"]"
   ]
  },
  {
   "cell_type": "code",
   "execution_count": null,
   "metadata": {},
   "outputs": [],
   "source": [
    "# Client\n",
    "client = tweepy.Client(bearer_token=bearer_token, return_type=requests.Response)"
   ]
  },
  {
   "cell_type": "code",
   "execution_count": null,
   "metadata": {},
   "outputs": [],
   "source": [
    "# Query parameters\n",
    "query_parameters = {\n",
    "    \"add\": [\n",
    "        {\"from\":\"username\"},\n",
    "        {\"value\":\"earthquake has:geo\"},\n",
    "        {\"value\":\"#earthquake\", \"tag\": \"earthquake\"},\n",
    "        {\"value\":\"earthquake\"} #has:geo -is:retweet\n",
    "        ]\n",
    "}"
   ]
  },
  {
   "cell_type": "code",
   "execution_count": null,
   "metadata": {},
   "outputs": [],
   "source": [
    "# Tweet fields parameters\n",
    "tweet_fields = [\n",
    "\t\t\"author_id\",\n",
    "\t\t\"created_at\",\n",
    "\t\t#\"public_metrics\",\n",
    "\t\t\"geo\",\n",
    "\t\t\"lang\",\n",
    "\t\t\"withheld\",\n",
    "\t\t]"
   ]
  },
  {
   "cell_type": "code",
   "execution_count": null,
   "metadata": {},
   "outputs": [],
   "source": [
    "# Expansions parameters\n",
    "expansions_parameters = \"geo.place_id\""
   ]
  },
  {
   "cell_type": "code",
   "execution_count": null,
   "metadata": {},
   "outputs": [],
   "source": [
    "# Get information from twitter\n",
    "tweets = client.search_recent_tweets(query = query_parameters, tweet_fields = tweet_fields, expansions = expansions_parameters, max_results = 100)\n"
   ]
  },
  {
   "cell_type": "code",
   "execution_count": null,
   "metadata": {},
   "outputs": [],
   "source": [
    "# Convert to json\n",
    "tweets_dict = tweets.json()"
   ]
  },
  {
   "cell_type": "code",
   "execution_count": null,
   "metadata": {},
   "outputs": [],
   "source": [
    "# Convet to df\n",
    "tweets_data = tweets_dict['data']\n",
    "df = pd.json_normalize(tweets_data)"
   ]
  },
  {
   "cell_type": "code",
   "execution_count": null,
   "metadata": {},
   "outputs": [],
   "source": [
    "# Save to CSV\n",
    "df.to_csv (\"myTwitter_Data.csv\")"
   ]
  }
 ],
 "metadata": {
  "language_info": {
   "name": "python"
  },
  "orig_nbformat": 4
 },
 "nbformat": 4,
 "nbformat_minor": 2
}
